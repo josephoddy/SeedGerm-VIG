{
 "cells": [
  {
   "cell_type": "markdown",
   "id": "b9887a2a",
   "metadata": {},
   "source": [
    "# load packages"
   ]
  },
  {
   "cell_type": "code",
   "execution_count": 1,
   "id": "9d5e6fbe",
   "metadata": {
    "ExecuteTime": {
     "end_time": "2024-12-23T15:58:12.526891Z",
     "start_time": "2024-12-23T15:58:09.637496Z"
    }
   },
   "outputs": [],
   "source": [
    "import tensorflow as tf\n",
    "from skimage import io\n",
    "import os\n",
    "from PIL import Image\n",
    "import numpy as np\n",
    "import matplotlib.pyplot as plt\n",
    "import cv2"
   ]
  },
  {
   "cell_type": "markdown",
   "id": "253acc08",
   "metadata": {},
   "source": [
    "# define functions"
   ]
  },
  {
   "cell_type": "code",
   "execution_count": 9,
   "id": "6aebf7bf",
   "metadata": {
    "ExecuteTime": {
     "end_time": "2024-12-23T15:59:55.024599Z",
     "start_time": "2024-12-23T15:59:55.009925Z"
    }
   },
   "outputs": [],
   "source": [
    "def resize_image(image, size):\n",
    "    iw, ih  = image.size\n",
    "    w, h    = size\n",
    "\n",
    "    scale   = min(w/iw, h/ih)\n",
    "    nw      = int(iw*scale)\n",
    "    nh      = int(ih*scale)\n",
    "\n",
    "    image   = image.resize((nw,nh), Image.BICUBIC)\n",
    "    new_image = Image.new('RGB', size, (128,128,128))\n",
    "    new_image.paste(image, ((w-nw)//2, (h-nh)//2))\n",
    "\n",
    "    return new_image, nw, nh\n",
    "    \n",
    "def preprocess_input(image):\n",
    "    image = image / 127.5 - 1\n",
    "    return image"
   ]
  },
  {
   "cell_type": "markdown",
   "id": "43a3498d",
   "metadata": {},
   "source": [
    "# mask prediction"
   ]
  },
  {
   "cell_type": "markdown",
   "id": "9122fbd3",
   "metadata": {
    "ExecuteTime": {
     "end_time": "2024-12-23T15:59:32.183432Z",
     "start_time": "2024-12-23T15:59:32.178441Z"
    }
   },
   "source": [
    "## overall mask prediction"
   ]
  },
  {
   "cell_type": "code",
   "execution_count": 3,
   "id": "2308606e",
   "metadata": {
    "ExecuteTime": {
     "end_time": "2024-12-23T15:59:47.922920Z",
     "start_time": "2024-12-23T15:59:46.098101Z"
    }
   },
   "outputs": [
    {
     "name": "stdout",
     "output_type": "stream",
     "text": [
      "WARNING:tensorflow:No training configuration found in save file, so the model was *not* compiled. Compile it manually.\n"
     ]
    }
   ],
   "source": [
    "model_loaded = tf.keras.models.load_model('./models/U-net_wheat_overall_detection/')"
   ]
  },
  {
   "cell_type": "code",
   "execution_count": 10,
   "id": "ce63cb03",
   "metadata": {
    "ExecuteTime": {
     "end_time": "2024-12-23T15:59:58.582293Z",
     "start_time": "2024-12-23T15:59:58.577292Z"
    }
   },
   "outputs": [],
   "source": [
    "input_shape = [512, 512]"
   ]
  },
  {
   "cell_type": "code",
   "execution_count": 20,
   "id": "77a05281",
   "metadata": {
    "ExecuteTime": {
     "end_time": "2024-12-23T16:04:57.776957Z",
     "start_time": "2024-12-23T16:04:57.425602Z"
    }
   },
   "outputs": [],
   "source": [
    "if not os.path.exists('./model_predict/G7_overall/'):\n",
    "    os.makedirs('./model_predict/G7_overall/')"
   ]
  },
  {
   "cell_type": "code",
   "execution_count": 21,
   "id": "379624f1",
   "metadata": {
    "ExecuteTime": {
     "end_time": "2024-12-23T16:05:25.503058Z",
     "start_time": "2024-12-23T16:05:14.865562Z"
    },
    "scrolled": true
   },
   "outputs": [
    {
     "name": "stderr",
     "output_type": "stream",
     "text": [
      "D:\\anaconda3\\envs\\maskrcnn\\lib\\site-packages\\ipykernel_launcher.py:9: DeprecationWarning: BICUBIC is deprecated and will be removed in Pillow 10 (2023-07-01). Use Resampling.BICUBIC instead.\n",
      "  if __name__ == \"__main__\":\n",
      "D:\\anaconda3\\envs\\maskrcnn\\lib\\site-packages\\ipykernel_launcher.py:13: UserWarning: ./model_predict/G7_overall/G7_20221026_1637.png is a low contrast image\n",
      "  del sys.path[0]\n",
      "Lossy conversion from int64 to uint8. Range [0, 1]. Convert image to uint8 prior to saving to suppress this warning.\n",
      "D:\\anaconda3\\envs\\maskrcnn\\lib\\site-packages\\ipykernel_launcher.py:13: UserWarning: ./model_predict/G7_overall/G7_20221026_2138.png is a low contrast image\n",
      "  del sys.path[0]\n",
      "Lossy conversion from int64 to uint8. Range [0, 1]. Convert image to uint8 prior to saving to suppress this warning.\n",
      "D:\\anaconda3\\envs\\maskrcnn\\lib\\site-packages\\ipykernel_launcher.py:13: UserWarning: ./model_predict/G7_overall/G7_20221027_0239.png is a low contrast image\n",
      "  del sys.path[0]\n",
      "Lossy conversion from int64 to uint8. Range [0, 1]. Convert image to uint8 prior to saving to suppress this warning.\n",
      "D:\\anaconda3\\envs\\maskrcnn\\lib\\site-packages\\ipykernel_launcher.py:13: UserWarning: ./model_predict/G7_overall/G7_20221027_0741.png is a low contrast image\n",
      "  del sys.path[0]\n",
      "Lossy conversion from int64 to uint8. Range [0, 1]. Convert image to uint8 prior to saving to suppress this warning.\n",
      "D:\\anaconda3\\envs\\maskrcnn\\lib\\site-packages\\ipykernel_launcher.py:13: UserWarning: ./model_predict/G7_overall/G7_20221027_1242.png is a low contrast image\n",
      "  del sys.path[0]\n",
      "Lossy conversion from int64 to uint8. Range [0, 1]. Convert image to uint8 prior to saving to suppress this warning.\n",
      "D:\\anaconda3\\envs\\maskrcnn\\lib\\site-packages\\ipykernel_launcher.py:13: UserWarning: ./model_predict/G7_overall/G7_20221027_1744.png is a low contrast image\n",
      "  del sys.path[0]\n",
      "Lossy conversion from int64 to uint8. Range [0, 1]. Convert image to uint8 prior to saving to suppress this warning.\n",
      "D:\\anaconda3\\envs\\maskrcnn\\lib\\site-packages\\ipykernel_launcher.py:13: UserWarning: ./model_predict/G7_overall/G7_20221027_2245.png is a low contrast image\n",
      "  del sys.path[0]\n",
      "Lossy conversion from int64 to uint8. Range [0, 1]. Convert image to uint8 prior to saving to suppress this warning.\n",
      "D:\\anaconda3\\envs\\maskrcnn\\lib\\site-packages\\ipykernel_launcher.py:13: UserWarning: ./model_predict/G7_overall/G7_20221028_0347.png is a low contrast image\n",
      "  del sys.path[0]\n",
      "Lossy conversion from int64 to uint8. Range [0, 1]. Convert image to uint8 prior to saving to suppress this warning.\n",
      "D:\\anaconda3\\envs\\maskrcnn\\lib\\site-packages\\ipykernel_launcher.py:13: UserWarning: ./model_predict/G7_overall/G7_20221028_0848.png is a low contrast image\n",
      "  del sys.path[0]\n",
      "Lossy conversion from int64 to uint8. Range [0, 1]. Convert image to uint8 prior to saving to suppress this warning.\n",
      "D:\\anaconda3\\envs\\maskrcnn\\lib\\site-packages\\ipykernel_launcher.py:13: UserWarning: ./model_predict/G7_overall/G7_20221028_1350.png is a low contrast image\n",
      "  del sys.path[0]\n",
      "Lossy conversion from int64 to uint8. Range [0, 1]. Convert image to uint8 prior to saving to suppress this warning.\n",
      "D:\\anaconda3\\envs\\maskrcnn\\lib\\site-packages\\ipykernel_launcher.py:13: UserWarning: ./model_predict/G7_overall/G7_20221028_1851.png is a low contrast image\n",
      "  del sys.path[0]\n",
      "Lossy conversion from int64 to uint8. Range [0, 1]. Convert image to uint8 prior to saving to suppress this warning.\n",
      "D:\\anaconda3\\envs\\maskrcnn\\lib\\site-packages\\ipykernel_launcher.py:13: UserWarning: ./model_predict/G7_overall/G7_20221028_2352.png is a low contrast image\n",
      "  del sys.path[0]\n",
      "Lossy conversion from int64 to uint8. Range [0, 1]. Convert image to uint8 prior to saving to suppress this warning.\n",
      "D:\\anaconda3\\envs\\maskrcnn\\lib\\site-packages\\ipykernel_launcher.py:13: UserWarning: ./model_predict/G7_overall/G7_20221029_0454.png is a low contrast image\n",
      "  del sys.path[0]\n",
      "Lossy conversion from int64 to uint8. Range [0, 1]. Convert image to uint8 prior to saving to suppress this warning.\n",
      "D:\\anaconda3\\envs\\maskrcnn\\lib\\site-packages\\ipykernel_launcher.py:13: UserWarning: ./model_predict/G7_overall/G7_20221029_0955.png is a low contrast image\n",
      "  del sys.path[0]\n",
      "Lossy conversion from int64 to uint8. Range [0, 1]. Convert image to uint8 prior to saving to suppress this warning.\n",
      "D:\\anaconda3\\envs\\maskrcnn\\lib\\site-packages\\ipykernel_launcher.py:13: UserWarning: ./model_predict/G7_overall/G7_20221029_1457.png is a low contrast image\n",
      "  del sys.path[0]\n",
      "Lossy conversion from int64 to uint8. Range [0, 1]. Convert image to uint8 prior to saving to suppress this warning.\n",
      "D:\\anaconda3\\envs\\maskrcnn\\lib\\site-packages\\ipykernel_launcher.py:13: UserWarning: ./model_predict/G7_overall/G7_20221029_2018.png is a low contrast image\n",
      "  del sys.path[0]\n",
      "Lossy conversion from int64 to uint8. Range [0, 1]. Convert image to uint8 prior to saving to suppress this warning.\n"
     ]
    }
   ],
   "source": [
    "for tmp_file in os.listdir('./example_G7/'):\n",
    "    image = Image.open(os.path.join('./example_G7', tmp_file))\n",
    "    original_h, original_w = np.array(image).shape[:2]\n",
    "    image_data, nw, nh  = resize_image(image, (input_shape[1], input_shape[0]))\n",
    "    image_data  = np.expand_dims(preprocess_input(np.array(image_data, np.float32)), 0)\n",
    "    pr = model_loaded.predict(image_data)[0]\n",
    "    pr = pr[int((input_shape[0] - nh) // 2) : int((input_shape[0] - nh) // 2 + nh), \\\n",
    "                int((input_shape[1] - nw) // 2) : int((input_shape[1] - nw) // 2 + nw)]\n",
    "    pr = cv2.resize(pr, (original_w, original_h), interpolation = cv2.INTER_LINEAR)\n",
    "    pr = pr.argmax(axis=-1)\n",
    "    \n",
    "    img_prefix = tmp_file.split('.')[0]\n",
    "    io.imsave(os.path.join('./model_predict/G7_overall/', f'{img_prefix}.png'), pr)"
   ]
  },
  {
   "cell_type": "markdown",
   "id": "eb70f7b8",
   "metadata": {
    "ExecuteTime": {
     "end_time": "2024-12-23T15:59:32.183432Z",
     "start_time": "2024-12-23T15:59:32.178441Z"
    }
   },
   "source": [
    "## seed mask prediction"
   ]
  },
  {
   "cell_type": "code",
   "execution_count": 22,
   "id": "ebe366b0",
   "metadata": {
    "ExecuteTime": {
     "end_time": "2024-12-23T16:07:28.546943Z",
     "start_time": "2024-12-23T16:07:27.273381Z"
    }
   },
   "outputs": [
    {
     "name": "stdout",
     "output_type": "stream",
     "text": [
      "WARNING:tensorflow:No training configuration found in save file, so the model was *not* compiled. Compile it manually.\n"
     ]
    }
   ],
   "source": [
    "model_loaded = tf.keras.models.load_model('./models/U-net_wheat_seed_detection/')"
   ]
  },
  {
   "cell_type": "code",
   "execution_count": 23,
   "id": "01b27230",
   "metadata": {
    "ExecuteTime": {
     "end_time": "2024-12-23T16:07:28.561995Z",
     "start_time": "2024-12-23T16:07:28.548939Z"
    }
   },
   "outputs": [],
   "source": [
    "input_shape = [512, 512]"
   ]
  },
  {
   "cell_type": "code",
   "execution_count": 24,
   "id": "51770164",
   "metadata": {
    "ExecuteTime": {
     "end_time": "2024-12-23T16:07:33.175544Z",
     "start_time": "2024-12-23T16:07:33.162537Z"
    }
   },
   "outputs": [],
   "source": [
    "if not os.path.exists('./model_predict/G7_seed/'):\n",
    "    os.makedirs('./model_predict/G7_seed/')"
   ]
  },
  {
   "cell_type": "code",
   "execution_count": 25,
   "id": "e45b46a6",
   "metadata": {
    "ExecuteTime": {
     "end_time": "2024-12-23T16:07:45.962369Z",
     "start_time": "2024-12-23T16:07:37.817892Z"
    },
    "scrolled": true
   },
   "outputs": [
    {
     "name": "stderr",
     "output_type": "stream",
     "text": [
      "D:\\anaconda3\\envs\\maskrcnn\\lib\\site-packages\\ipykernel_launcher.py:9: DeprecationWarning: BICUBIC is deprecated and will be removed in Pillow 10 (2023-07-01). Use Resampling.BICUBIC instead.\n",
      "  if __name__ == \"__main__\":\n",
      "D:\\anaconda3\\envs\\maskrcnn\\lib\\site-packages\\ipykernel_launcher.py:13: UserWarning: ./model_predict/G7_seed/G7_20221026_1637.png is a low contrast image\n",
      "  del sys.path[0]\n",
      "Lossy conversion from int64 to uint8. Range [0, 1]. Convert image to uint8 prior to saving to suppress this warning.\n",
      "D:\\anaconda3\\envs\\maskrcnn\\lib\\site-packages\\ipykernel_launcher.py:13: UserWarning: ./model_predict/G7_seed/G7_20221026_2138.png is a low contrast image\n",
      "  del sys.path[0]\n",
      "Lossy conversion from int64 to uint8. Range [0, 1]. Convert image to uint8 prior to saving to suppress this warning.\n",
      "D:\\anaconda3\\envs\\maskrcnn\\lib\\site-packages\\ipykernel_launcher.py:13: UserWarning: ./model_predict/G7_seed/G7_20221027_0239.png is a low contrast image\n",
      "  del sys.path[0]\n",
      "Lossy conversion from int64 to uint8. Range [0, 1]. Convert image to uint8 prior to saving to suppress this warning.\n",
      "D:\\anaconda3\\envs\\maskrcnn\\lib\\site-packages\\ipykernel_launcher.py:13: UserWarning: ./model_predict/G7_seed/G7_20221027_0741.png is a low contrast image\n",
      "  del sys.path[0]\n",
      "Lossy conversion from int64 to uint8. Range [0, 1]. Convert image to uint8 prior to saving to suppress this warning.\n",
      "D:\\anaconda3\\envs\\maskrcnn\\lib\\site-packages\\ipykernel_launcher.py:13: UserWarning: ./model_predict/G7_seed/G7_20221027_1242.png is a low contrast image\n",
      "  del sys.path[0]\n",
      "Lossy conversion from int64 to uint8. Range [0, 1]. Convert image to uint8 prior to saving to suppress this warning.\n",
      "D:\\anaconda3\\envs\\maskrcnn\\lib\\site-packages\\ipykernel_launcher.py:13: UserWarning: ./model_predict/G7_seed/G7_20221027_1744.png is a low contrast image\n",
      "  del sys.path[0]\n",
      "Lossy conversion from int64 to uint8. Range [0, 1]. Convert image to uint8 prior to saving to suppress this warning.\n",
      "D:\\anaconda3\\envs\\maskrcnn\\lib\\site-packages\\ipykernel_launcher.py:13: UserWarning: ./model_predict/G7_seed/G7_20221027_2245.png is a low contrast image\n",
      "  del sys.path[0]\n",
      "Lossy conversion from int64 to uint8. Range [0, 1]. Convert image to uint8 prior to saving to suppress this warning.\n",
      "D:\\anaconda3\\envs\\maskrcnn\\lib\\site-packages\\ipykernel_launcher.py:13: UserWarning: ./model_predict/G7_seed/G7_20221028_0347.png is a low contrast image\n",
      "  del sys.path[0]\n",
      "Lossy conversion from int64 to uint8. Range [0, 1]. Convert image to uint8 prior to saving to suppress this warning.\n",
      "D:\\anaconda3\\envs\\maskrcnn\\lib\\site-packages\\ipykernel_launcher.py:13: UserWarning: ./model_predict/G7_seed/G7_20221028_0848.png is a low contrast image\n",
      "  del sys.path[0]\n",
      "Lossy conversion from int64 to uint8. Range [0, 1]. Convert image to uint8 prior to saving to suppress this warning.\n",
      "D:\\anaconda3\\envs\\maskrcnn\\lib\\site-packages\\ipykernel_launcher.py:13: UserWarning: ./model_predict/G7_seed/G7_20221028_1350.png is a low contrast image\n",
      "  del sys.path[0]\n",
      "Lossy conversion from int64 to uint8. Range [0, 1]. Convert image to uint8 prior to saving to suppress this warning.\n",
      "D:\\anaconda3\\envs\\maskrcnn\\lib\\site-packages\\ipykernel_launcher.py:13: UserWarning: ./model_predict/G7_seed/G7_20221028_1851.png is a low contrast image\n",
      "  del sys.path[0]\n",
      "Lossy conversion from int64 to uint8. Range [0, 1]. Convert image to uint8 prior to saving to suppress this warning.\n",
      "D:\\anaconda3\\envs\\maskrcnn\\lib\\site-packages\\ipykernel_launcher.py:13: UserWarning: ./model_predict/G7_seed/G7_20221028_2352.png is a low contrast image\n",
      "  del sys.path[0]\n",
      "Lossy conversion from int64 to uint8. Range [0, 1]. Convert image to uint8 prior to saving to suppress this warning.\n",
      "D:\\anaconda3\\envs\\maskrcnn\\lib\\site-packages\\ipykernel_launcher.py:13: UserWarning: ./model_predict/G7_seed/G7_20221029_0454.png is a low contrast image\n",
      "  del sys.path[0]\n",
      "Lossy conversion from int64 to uint8. Range [0, 1]. Convert image to uint8 prior to saving to suppress this warning.\n",
      "D:\\anaconda3\\envs\\maskrcnn\\lib\\site-packages\\ipykernel_launcher.py:13: UserWarning: ./model_predict/G7_seed/G7_20221029_0955.png is a low contrast image\n",
      "  del sys.path[0]\n",
      "Lossy conversion from int64 to uint8. Range [0, 1]. Convert image to uint8 prior to saving to suppress this warning.\n",
      "D:\\anaconda3\\envs\\maskrcnn\\lib\\site-packages\\ipykernel_launcher.py:13: UserWarning: ./model_predict/G7_seed/G7_20221029_1457.png is a low contrast image\n",
      "  del sys.path[0]\n",
      "Lossy conversion from int64 to uint8. Range [0, 1]. Convert image to uint8 prior to saving to suppress this warning.\n",
      "D:\\anaconda3\\envs\\maskrcnn\\lib\\site-packages\\ipykernel_launcher.py:13: UserWarning: ./model_predict/G7_seed/G7_20221029_2018.png is a low contrast image\n",
      "  del sys.path[0]\n",
      "Lossy conversion from int64 to uint8. Range [0, 1]. Convert image to uint8 prior to saving to suppress this warning.\n"
     ]
    }
   ],
   "source": [
    "for tmp_file in os.listdir('./example_G7/'):\n",
    "    image = Image.open(os.path.join('./example_G7', tmp_file))\n",
    "    original_h, original_w = np.array(image).shape[:2]\n",
    "    image_data, nw, nh  = resize_image(image, (input_shape[1], input_shape[0]))\n",
    "    image_data  = np.expand_dims(preprocess_input(np.array(image_data, np.float32)), 0)\n",
    "    pr = model_loaded.predict(image_data)[0]\n",
    "    pr = pr[int((input_shape[0] - nh) // 2) : int((input_shape[0] - nh) // 2 + nh), \\\n",
    "                int((input_shape[1] - nw) // 2) : int((input_shape[1] - nw) // 2 + nw)]\n",
    "    pr = cv2.resize(pr, (original_w, original_h), interpolation = cv2.INTER_LINEAR)\n",
    "    pr = pr.argmax(axis=-1)\n",
    "    \n",
    "    img_prefix = tmp_file.split('.')[0]\n",
    "    io.imsave(os.path.join('./model_predict/G7_seed/', f'{img_prefix}.png'), pr)"
   ]
  },
  {
   "cell_type": "markdown",
   "id": "a33a3690",
   "metadata": {
    "ExecuteTime": {
     "end_time": "2024-12-23T15:59:32.183432Z",
     "start_time": "2024-12-23T15:59:32.178441Z"
    }
   },
   "source": [
    "## seedling mask prediction"
   ]
  },
  {
   "cell_type": "code",
   "execution_count": 26,
   "id": "4db50be0",
   "metadata": {
    "ExecuteTime": {
     "end_time": "2024-12-23T16:07:28.546943Z",
     "start_time": "2024-12-23T16:07:27.273381Z"
    }
   },
   "outputs": [
    {
     "name": "stdout",
     "output_type": "stream",
     "text": [
      "WARNING:tensorflow:No training configuration found in save file, so the model was *not* compiled. Compile it manually.\n"
     ]
    }
   ],
   "source": [
    "model_loaded = tf.keras.models.load_model('./models/U-net_wheat_seedling_detection/')"
   ]
  },
  {
   "cell_type": "code",
   "execution_count": 27,
   "id": "30adf000",
   "metadata": {
    "ExecuteTime": {
     "end_time": "2024-12-23T16:07:28.561995Z",
     "start_time": "2024-12-23T16:07:28.548939Z"
    }
   },
   "outputs": [],
   "source": [
    "input_shape = [512, 512]"
   ]
  },
  {
   "cell_type": "code",
   "execution_count": 28,
   "id": "9ba1a4b1",
   "metadata": {
    "ExecuteTime": {
     "end_time": "2024-12-23T16:07:33.175544Z",
     "start_time": "2024-12-23T16:07:33.162537Z"
    }
   },
   "outputs": [],
   "source": [
    "if not os.path.exists('./model_predict/G7_seedling/'):\n",
    "    os.makedirs('./model_predict/G7_seedling/')"
   ]
  },
  {
   "cell_type": "code",
   "execution_count": 29,
   "id": "768a98af",
   "metadata": {
    "ExecuteTime": {
     "end_time": "2024-12-23T16:07:45.962369Z",
     "start_time": "2024-12-23T16:07:37.817892Z"
    },
    "scrolled": true
   },
   "outputs": [
    {
     "name": "stderr",
     "output_type": "stream",
     "text": [
      "D:\\anaconda3\\envs\\maskrcnn\\lib\\site-packages\\ipykernel_launcher.py:9: DeprecationWarning: BICUBIC is deprecated and will be removed in Pillow 10 (2023-07-01). Use Resampling.BICUBIC instead.\n",
      "  if __name__ == \"__main__\":\n",
      "D:\\anaconda3\\envs\\maskrcnn\\lib\\site-packages\\ipykernel_launcher.py:13: UserWarning: ./model_predict/G7_seedling/G7_20221026_1637.png is a low contrast image\n",
      "  del sys.path[0]\n",
      "D:\\anaconda3\\envs\\maskrcnn\\lib\\site-packages\\ipykernel_launcher.py:13: UserWarning: ./model_predict/G7_seedling/G7_20221026_2138.png is a low contrast image\n",
      "  del sys.path[0]\n",
      "D:\\anaconda3\\envs\\maskrcnn\\lib\\site-packages\\ipykernel_launcher.py:13: UserWarning: ./model_predict/G7_seedling/G7_20221027_0239.png is a low contrast image\n",
      "  del sys.path[0]\n",
      "D:\\anaconda3\\envs\\maskrcnn\\lib\\site-packages\\ipykernel_launcher.py:13: UserWarning: ./model_predict/G7_seedling/G7_20221027_0741.png is a low contrast image\n",
      "  del sys.path[0]\n",
      "D:\\anaconda3\\envs\\maskrcnn\\lib\\site-packages\\ipykernel_launcher.py:13: UserWarning: ./model_predict/G7_seedling/G7_20221027_1242.png is a low contrast image\n",
      "  del sys.path[0]\n",
      "D:\\anaconda3\\envs\\maskrcnn\\lib\\site-packages\\ipykernel_launcher.py:13: UserWarning: ./model_predict/G7_seedling/G7_20221027_1744.png is a low contrast image\n",
      "  del sys.path[0]\n",
      "D:\\anaconda3\\envs\\maskrcnn\\lib\\site-packages\\ipykernel_launcher.py:13: UserWarning: ./model_predict/G7_seedling/G7_20221027_2245.png is a low contrast image\n",
      "  del sys.path[0]\n",
      "D:\\anaconda3\\envs\\maskrcnn\\lib\\site-packages\\ipykernel_launcher.py:13: UserWarning: ./model_predict/G7_seedling/G7_20221028_0347.png is a low contrast image\n",
      "  del sys.path[0]\n",
      "Lossy conversion from int64 to uint8. Range [0, 1]. Convert image to uint8 prior to saving to suppress this warning.\n",
      "D:\\anaconda3\\envs\\maskrcnn\\lib\\site-packages\\ipykernel_launcher.py:13: UserWarning: ./model_predict/G7_seedling/G7_20221028_0848.png is a low contrast image\n",
      "  del sys.path[0]\n",
      "Lossy conversion from int64 to uint8. Range [0, 1]. Convert image to uint8 prior to saving to suppress this warning.\n",
      "D:\\anaconda3\\envs\\maskrcnn\\lib\\site-packages\\ipykernel_launcher.py:13: UserWarning: ./model_predict/G7_seedling/G7_20221028_1350.png is a low contrast image\n",
      "  del sys.path[0]\n",
      "Lossy conversion from int64 to uint8. Range [0, 1]. Convert image to uint8 prior to saving to suppress this warning.\n",
      "D:\\anaconda3\\envs\\maskrcnn\\lib\\site-packages\\ipykernel_launcher.py:13: UserWarning: ./model_predict/G7_seedling/G7_20221028_1851.png is a low contrast image\n",
      "  del sys.path[0]\n",
      "Lossy conversion from int64 to uint8. Range [0, 1]. Convert image to uint8 prior to saving to suppress this warning.\n",
      "D:\\anaconda3\\envs\\maskrcnn\\lib\\site-packages\\ipykernel_launcher.py:13: UserWarning: ./model_predict/G7_seedling/G7_20221028_2352.png is a low contrast image\n",
      "  del sys.path[0]\n",
      "Lossy conversion from int64 to uint8. Range [0, 1]. Convert image to uint8 prior to saving to suppress this warning.\n",
      "D:\\anaconda3\\envs\\maskrcnn\\lib\\site-packages\\ipykernel_launcher.py:13: UserWarning: ./model_predict/G7_seedling/G7_20221029_0454.png is a low contrast image\n",
      "  del sys.path[0]\n",
      "Lossy conversion from int64 to uint8. Range [0, 1]. Convert image to uint8 prior to saving to suppress this warning.\n",
      "D:\\anaconda3\\envs\\maskrcnn\\lib\\site-packages\\ipykernel_launcher.py:13: UserWarning: ./model_predict/G7_seedling/G7_20221029_0955.png is a low contrast image\n",
      "  del sys.path[0]\n",
      "Lossy conversion from int64 to uint8. Range [0, 1]. Convert image to uint8 prior to saving to suppress this warning.\n",
      "D:\\anaconda3\\envs\\maskrcnn\\lib\\site-packages\\ipykernel_launcher.py:13: UserWarning: ./model_predict/G7_seedling/G7_20221029_1457.png is a low contrast image\n",
      "  del sys.path[0]\n",
      "Lossy conversion from int64 to uint8. Range [0, 1]. Convert image to uint8 prior to saving to suppress this warning.\n",
      "D:\\anaconda3\\envs\\maskrcnn\\lib\\site-packages\\ipykernel_launcher.py:13: UserWarning: ./model_predict/G7_seedling/G7_20221029_2018.png is a low contrast image\n",
      "  del sys.path[0]\n",
      "Lossy conversion from int64 to uint8. Range [0, 1]. Convert image to uint8 prior to saving to suppress this warning.\n"
     ]
    }
   ],
   "source": [
    "for tmp_file in os.listdir('./example_G7/'):\n",
    "    image = Image.open(os.path.join('./example_G7', tmp_file))\n",
    "    original_h, original_w = np.array(image).shape[:2]\n",
    "    image_data, nw, nh  = resize_image(image, (input_shape[1], input_shape[0]))\n",
    "    image_data  = np.expand_dims(preprocess_input(np.array(image_data, np.float32)), 0)\n",
    "    pr = model_loaded.predict(image_data)[0]\n",
    "    pr = pr[int((input_shape[0] - nh) // 2) : int((input_shape[0] - nh) // 2 + nh), \\\n",
    "                int((input_shape[1] - nw) // 2) : int((input_shape[1] - nw) // 2 + nw)]\n",
    "    pr = cv2.resize(pr, (original_w, original_h), interpolation = cv2.INTER_LINEAR)\n",
    "    pr = pr.argmax(axis=-1)\n",
    "    \n",
    "    img_prefix = tmp_file.split('.')[0]\n",
    "    io.imsave(os.path.join('./model_predict/G7_seedling/', f'{img_prefix}.png'), pr)"
   ]
  },
  {
   "cell_type": "code",
   "execution_count": null,
   "id": "282eea98",
   "metadata": {},
   "outputs": [],
   "source": []
  }
 ],
 "metadata": {
  "kernelspec": {
   "display_name": "Python 3 (ipykernel)",
   "language": "python",
   "name": "python3"
  },
  "language_info": {
   "codemirror_mode": {
    "name": "ipython",
    "version": 3
   },
   "file_extension": ".py",
   "mimetype": "text/x-python",
   "name": "python",
   "nbconvert_exporter": "python",
   "pygments_lexer": "ipython3",
   "version": "3.9.12"
  },
  "toc": {
   "base_numbering": 1,
   "nav_menu": {},
   "number_sections": true,
   "sideBar": true,
   "skip_h1_title": false,
   "title_cell": "Table of Contents",
   "title_sidebar": "Contents",
   "toc_cell": false,
   "toc_position": {},
   "toc_section_display": true,
   "toc_window_display": true
  }
 },
 "nbformat": 4,
 "nbformat_minor": 5
}
