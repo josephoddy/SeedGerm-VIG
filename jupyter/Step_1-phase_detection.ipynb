{
 "cells": [
  {
   "cell_type": "markdown",
   "id": "c6a11692",
   "metadata": {},
   "source": [
    "# load packages"
   ]
  },
  {
   "cell_type": "code",
   "execution_count": 1,
   "id": "95047dfb",
   "metadata": {
    "ExecuteTime": {
     "end_time": "2024-12-23T12:23:44.928471Z",
     "start_time": "2024-12-23T12:23:44.542496Z"
    }
   },
   "outputs": [],
   "source": [
    "from ultralytics import YOLO\n",
    "import skimage\n",
    "import pickle\n",
    "import os"
   ]
  },
  {
   "cell_type": "markdown",
   "id": "d813622a",
   "metadata": {},
   "source": [
    "# load model"
   ]
  },
  {
   "cell_type": "code",
   "execution_count": 6,
   "id": "9651a423",
   "metadata": {
    "ExecuteTime": {
     "end_time": "2024-12-23T12:34:27.117050Z",
     "start_time": "2024-12-23T12:34:27.066051Z"
    }
   },
   "outputs": [],
   "source": [
    "model = YOLO('./models/YOLOv8x-Germ.pt') "
   ]
  },
  {
   "cell_type": "markdown",
   "id": "8965e450",
   "metadata": {},
   "source": [
    "# set target directory"
   ]
  },
  {
   "cell_type": "markdown",
   "id": "39c21f53",
   "metadata": {},
   "source": [
    "germination images (G7) with a 5-hour interval (0-80 hours)"
   ]
  },
  {
   "cell_type": "code",
   "execution_count": 3,
   "id": "ae5027d2",
   "metadata": {
    "ExecuteTime": {
     "end_time": "2024-12-23T12:29:45.617432Z",
     "start_time": "2024-12-23T12:29:45.611461Z"
    }
   },
   "outputs": [],
   "source": [
    "target_dir = './example_G7/'"
   ]
  },
  {
   "cell_type": "markdown",
   "id": "74692f16",
   "metadata": {},
   "source": [
    "# set save directory"
   ]
  },
  {
   "cell_type": "code",
   "execution_count": 4,
   "id": "1dbfc557",
   "metadata": {
    "ExecuteTime": {
     "end_time": "2024-12-23T12:30:29.701622Z",
     "start_time": "2024-12-23T12:30:29.689610Z"
    }
   },
   "outputs": [],
   "source": [
    "save_dir = './model_predict/G7_phase/'"
   ]
  },
  {
   "cell_type": "markdown",
   "id": "634a3d75",
   "metadata": {},
   "source": [
    "# detect germination phases"
   ]
  },
  {
   "cell_type": "code",
   "execution_count": 5,
   "id": "02ded160",
   "metadata": {
    "ExecuteTime": {
     "end_time": "2024-12-23T12:31:21.611630Z",
     "start_time": "2024-12-23T12:31:21.594627Z"
    }
   },
   "outputs": [],
   "source": [
    "if not os.path.exists(save_dir):\n",
    "    os.mkdirs(save_dir)"
   ]
  },
  {
   "cell_type": "code",
   "execution_count": 7,
   "id": "b60f080f",
   "metadata": {
    "ExecuteTime": {
     "end_time": "2024-12-23T12:36:10.096957Z",
     "start_time": "2024-12-23T12:35:47.538498Z"
    },
    "scrolled": true
   },
   "outputs": [
    {
     "name": "stdout",
     "output_type": "stream",
     "text": [
      "\n"
     ]
    },
    {
     "name": "stderr",
     "output_type": "stream",
     "text": [
      "D:\\anaconda3\\envs\\yolo\\lib\\site-packages\\torch\\nn\\functional.py:718: UserWarning: Named tensors and all their associated APIs are an experimental feature and subject to change. Please do not use them for anything important until they are released as stable. (Triggered internally at  ..\\c10/core/TensorImpl.h:1156.)\n",
      "  return torch.max_pool2d(input, kernel_size, stride, padding, dilation, ceil_mode)\n"
     ]
    },
    {
     "name": "stdout",
     "output_type": "stream",
     "text": [
      "image 1/1 G:\\wheat_old\\github\\example_G7\\G7_20221026_1637.jpg: 512x640 25 1s, 82.6ms\n",
      "Speed: 285.5ms preprocess, 82.6ms inference, 1175.9ms postprocess per image at shape (1, 3, 512, 640)\n",
      "\n",
      "image 1/1 G:\\wheat_old\\github\\example_G7\\G7_20221026_2138.jpg: 512x640 25 1s, 89.0ms\n",
      "Speed: 5.0ms preprocess, 89.0ms inference, 19.0ms postprocess per image at shape (1, 3, 512, 640)\n",
      "\n",
      "image 1/1 G:\\wheat_old\\github\\example_G7\\G7_20221027_0239.jpg: 512x640 25 1s, 49.6ms\n",
      "Speed: 4.0ms preprocess, 49.6ms inference, 15.0ms postprocess per image at shape (1, 3, 512, 640)\n",
      "\n",
      "image 1/1 G:\\wheat_old\\github\\example_G7\\G7_20221027_0741.jpg: 512x640 25 1s, 61.6ms\n",
      "Speed: 4.0ms preprocess, 61.6ms inference, 13.0ms postprocess per image at shape (1, 3, 512, 640)\n",
      "\n",
      "image 1/1 G:\\wheat_old\\github\\example_G7\\G7_20221027_1242.jpg: 512x640 25 1s, 55.0ms\n",
      "Speed: 4.0ms preprocess, 55.0ms inference, 13.0ms postprocess per image at shape (1, 3, 512, 640)\n",
      "\n",
      "image 1/1 G:\\wheat_old\\github\\example_G7\\G7_20221027_1744.jpg: 512x640 25 1s, 45.0ms\n",
      "Speed: 5.5ms preprocess, 45.0ms inference, 14.0ms postprocess per image at shape (1, 3, 512, 640)\n",
      "\n",
      "image 1/1 G:\\wheat_old\\github\\example_G7\\G7_20221027_2245.jpg: 512x640 25 1s, 46.0ms\n",
      "Speed: 3.0ms preprocess, 46.0ms inference, 12.7ms postprocess per image at shape (1, 3, 512, 640)\n",
      "\n",
      "image 1/1 G:\\wheat_old\\github\\example_G7\\G7_20221028_0347.jpg: 512x640 22 1s, 6 2s, 1 3, 46.0ms\n",
      "Speed: 4.0ms preprocess, 46.0ms inference, 18.0ms postprocess per image at shape (1, 3, 512, 640)\n",
      "\n",
      "image 1/1 G:\\wheat_old\\github\\example_G7\\G7_20221028_0848.jpg: 512x640 9 1s, 16 2s, 3 3s, 46.0ms\n",
      "Speed: 4.0ms preprocess, 46.0ms inference, 16.9ms postprocess per image at shape (1, 3, 512, 640)\n",
      "\n",
      "image 1/1 G:\\wheat_old\\github\\example_G7\\G7_20221028_1350.jpg: 512x640 5 1s, 14 2s, 7 3s, 1 4, 46.0ms\n",
      "Speed: 4.0ms preprocess, 46.0ms inference, 14.0ms postprocess per image at shape (1, 3, 512, 640)\n",
      "\n",
      "image 1/1 G:\\wheat_old\\github\\example_G7\\G7_20221028_1851.jpg: 512x640 3 1s, 11 2s, 10 3s, 4 4s, 61.1ms\n",
      "Speed: 4.0ms preprocess, 61.1ms inference, 15.9ms postprocess per image at shape (1, 3, 512, 640)\n",
      "\n",
      "image 1/1 G:\\wheat_old\\github\\example_G7\\G7_20221028_2352.jpg: 512x640 3 1s, 7 2s, 11 3s, 4 4s, 46.0ms\n",
      "Speed: 3.0ms preprocess, 46.0ms inference, 13.0ms postprocess per image at shape (1, 3, 512, 640)\n",
      "\n",
      "image 1/1 G:\\wheat_old\\github\\example_G7\\G7_20221029_0454.jpg: 512x640 2 1s, 6 2s, 8 3s, 11 4s, 44.0ms\n",
      "Speed: 5.0ms preprocess, 44.0ms inference, 15.0ms postprocess per image at shape (1, 3, 512, 640)\n",
      "\n",
      "image 1/1 G:\\wheat_old\\github\\example_G7\\G7_20221029_0955.jpg: 512x640 2 1s, 4 2s, 6 3s, 15 4s, 46.0ms\n",
      "Speed: 4.0ms preprocess, 46.0ms inference, 9.0ms postprocess per image at shape (1, 3, 512, 640)\n",
      "\n",
      "image 1/1 G:\\wheat_old\\github\\example_G7\\G7_20221029_1457.jpg: 512x640 1 1, 3 2s, 6 3s, 19 4s, 20.2ms\n",
      "Speed: 3.7ms preprocess, 20.2ms inference, 9.4ms postprocess per image at shape (1, 3, 512, 640)\n",
      "\n",
      "image 1/1 G:\\wheat_old\\github\\example_G7\\G7_20221029_2018.jpg: 512x640 1 1, 4 3s, 22 4s, 21.0ms\n",
      "Speed: 3.0ms preprocess, 21.0ms inference, 6.0ms postprocess per image at shape (1, 3, 512, 640)\n"
     ]
    }
   ],
   "source": [
    "for tmp_file in os.listdir(target_dir):\n",
    "    # detect using YOLO\n",
    "    results = model(os.path.join(target_dir, tmp_file))\n",
    "    \n",
    "    # get ROI (bounding box) data\n",
    "    ROI = results[0].boxes\n",
    "    \n",
    "    # save in pickle format for later treatment\n",
    "    file_prefix = tmp_file.split('.')[0]\n",
    "    file_out = open(os.path.join(save_dir, f'{file_prefix}.pkl'), 'wb')\n",
    "    pickle.dump(ROI, file_out)"
   ]
  },
  {
   "cell_type": "markdown",
   "id": "5365fe48",
   "metadata": {},
   "source": [
    "Note: <br>\n",
    "ROI labels are 0 (imbibition, IMB), 1 (protrusion, PRO), 2 (radicle emergence, RE), and 3 (seedling establishment, SE)."
   ]
  },
  {
   "cell_type": "code",
   "execution_count": null,
   "id": "9b973a77",
   "metadata": {},
   "outputs": [],
   "source": []
  }
 ],
 "metadata": {
  "kernelspec": {
   "display_name": "Python 3 (ipykernel)",
   "language": "python",
   "name": "python3"
  },
  "language_info": {
   "codemirror_mode": {
    "name": "ipython",
    "version": 3
   },
   "file_extension": ".py",
   "mimetype": "text/x-python",
   "name": "python",
   "nbconvert_exporter": "python",
   "pygments_lexer": "ipython3",
   "version": "3.8.18"
  },
  "toc": {
   "base_numbering": 1,
   "nav_menu": {},
   "number_sections": true,
   "sideBar": true,
   "skip_h1_title": false,
   "title_cell": "Table of Contents",
   "title_sidebar": "Contents",
   "toc_cell": false,
   "toc_position": {},
   "toc_section_display": true,
   "toc_window_display": false
  }
 },
 "nbformat": 4,
 "nbformat_minor": 5
}
